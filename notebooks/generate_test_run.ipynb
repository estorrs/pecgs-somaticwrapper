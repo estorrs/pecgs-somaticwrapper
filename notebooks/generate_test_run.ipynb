{
 "cells": [
  {
   "cell_type": "code",
   "execution_count": 1,
   "id": "8cc2bf4d",
   "metadata": {},
   "outputs": [],
   "source": [
    "import os\n",
    "import yaml\n",
    "import json\n",
    "import pandas as pd\n",
    "from pathlib import Path"
   ]
  },
  {
   "cell_type": "code",
   "execution_count": null,
   "id": "78bd2d3f",
   "metadata": {},
   "outputs": [],
   "source": []
  },
  {
   "cell_type": "code",
   "execution_count": null,
   "id": "599f1647",
   "metadata": {},
   "outputs": [],
   "source": []
  },
  {
   "cell_type": "code",
   "execution_count": 2,
   "id": "cc362bc7",
   "metadata": {},
   "outputs": [],
   "source": [
    "# m = yaml.safe_load(open('/diskmnt/Projects/Users/estorrs/pecgs-pipeline/examples/pecgs_TN_wxs_bam//test_sample/C3L-00677/summary.yaml'))\n",
    "# m"
   ]
  },
  {
   "cell_type": "code",
   "execution_count": 13,
   "id": "49ca98f4",
   "metadata": {},
   "outputs": [
    {
     "data": {
      "text/plain": [
       "{'normal_bam': {'class': 'File',\n",
       "  'path': 'a/file/path.bam',\n",
       "  'secondaryFiles': [{'class': 'File', 'path': 'a/file/path.bam.bai'}]},\n",
       " 'reference': {'class': 'Directory',\n",
       "  'path': 'a/file/path.fa',\n",
       "  'secondaryFiles': [{'class': 'File', 'path': 'a/file/path.fa.fai'}]},\n",
       " 'sample': 'a_string',\n",
       " 'tumor_bam': {'class': 'File',\n",
       "  'path': 'a/file/path.bam',\n",
       "  'secondaryFiles': [{'class': 'File', 'path': 'a/file/path.bam.bai'}]}}"
      ]
     },
     "execution_count": 13,
     "metadata": {},
     "output_type": "execute_result"
    }
   ],
   "source": [
    "template = yaml.safe_load(open('../cwl/template.somaticwrapper.yaml'))\n",
    "template"
   ]
  },
  {
   "cell_type": "code",
   "execution_count": 14,
   "id": "85a8e93e",
   "metadata": {},
   "outputs": [],
   "source": [
    "template['normal_bam']['path'] = '/storage1/fs1/dinglab/Active/Projects/estorrs/pecgs_resources/test_samples/C3L-00677/wxs/5cee818c-61e8-4441-bd9a-5c984cde9c6b_gdc_realn.bam'\n",
    "template['normal_bam'].pop('secondaryFiles')\n",
    "template['tumor_bam']['path'] = '/storage1/fs1/dinglab/Active/Projects/estorrs/pecgs_resources/test_samples/C3L-00677/wxs/1d6c4f0f-09c4-4472-a19e-30ee7e0ecf64_gdc_realn.bam'\n",
    "template['tumor_bam'].pop('secondaryFiles')\n",
    "template['reference']['path'] = '/storage1/fs1/dinglab/Active/Projects/estorrs/pecgs_resources/cnv/references/GRCh38.d1.vd1/GRCh38.d1.vd1.fa'\n",
    "template['reference'].pop('secondaryFiles')\n",
    "\n",
    "template['sample'] = 'C3L-00677'\n"
   ]
  },
  {
   "cell_type": "code",
   "execution_count": 15,
   "id": "01fc1e58",
   "metadata": {},
   "outputs": [
    {
     "data": {
      "text/plain": [
       "{'normal_bam': {'class': 'File',\n",
       "  'path': '/storage1/fs1/dinglab/Active/Projects/estorrs/pecgs_resources/test_samples/C3L-00677/wxs/5cee818c-61e8-4441-bd9a-5c984cde9c6b_gdc_realn.bam'},\n",
       " 'reference': {'class': 'Directory',\n",
       "  'path': '/storage1/fs1/dinglab/Active/Projects/estorrs/pecgs_resources/cnv/references/GRCh38.d1.vd1/GRCh38.d1.vd1.fa'},\n",
       " 'sample': 'C3L-00677',\n",
       " 'tumor_bam': {'class': 'File',\n",
       "  'path': '/storage1/fs1/dinglab/Active/Projects/estorrs/pecgs_resources/test_samples/C3L-00677/wxs/1d6c4f0f-09c4-4472-a19e-30ee7e0ecf64_gdc_realn.bam'}}"
      ]
     },
     "execution_count": 15,
     "metadata": {},
     "output_type": "execute_result"
    }
   ],
   "source": [
    "template"
   ]
  },
  {
   "cell_type": "code",
   "execution_count": 16,
   "id": "69dfe39d",
   "metadata": {},
   "outputs": [],
   "source": [
    "# template = yaml.safe_load(open('/diskmnt/Projects/Users/estorrs/wombat/tests/data/cnv/C3L-00677_inputs.yaml'))\n",
    "# template"
   ]
  },
  {
   "cell_type": "code",
   "execution_count": 17,
   "id": "ab0ebc69",
   "metadata": {},
   "outputs": [],
   "source": [
    "# template['common_biallelic']['path'] = '/storage1/fs1/dinglab/Active/Projects/estorrs/pecgs_resources/cnv/db/snp_database/af-only-gnomad.hg38.common_biallelic.chr1-22XY.vcf'\n",
    "# template['reference_dir']['path'] = '/storage1/fs1/dinglab/Active/Projects/estorrs/pecgs_resources/cnv/references/GRCh38.d1.vd1'\n",
    "# template['pool_of_normals']['path'] = '/storage1/fs1/dinglab/Active/Projects/estorrs/pecgs_resources/cnv/pon/pecgs_pon_v1/create_pon/gatk4scnaPON.Normal.hdf5'\n",
    "# template['target_interval_list']['path'] = '/storage1/fs1/dinglab/Active/Projects/estorrs/pecgs_resources/cnv/db/IDT_xGen_Exome_Research_Panel_v1.hg38.removed_alt_chr.autosome_only.bed.preprocessed.exome.interval_list'\n",
    "# template['protein_coding_gene']['path'] = '/storage1/fs1/dinglab/Active/Projects/estorrs/pecgs_resources/cnv/db/gencode.v34.annotation.gene_filtered.protein_coding.ensembl_ID_no_version.protein-coding_hgnc_filtered.duplicates_removed.ensembl_ID_removed.txt'\n",
    "# template['cytoband'] = {\n",
    "#     'path': '/storage1/fs1/dinglab/Active/Projects/estorrs/pecgs_resources/cnv/db/cytoBand.txt',\n",
    "#     'class': 'File'}\n"
   ]
  },
  {
   "cell_type": "code",
   "execution_count": 18,
   "id": "936a04a5",
   "metadata": {},
   "outputs": [],
   "source": [
    "# yaml.safe_dump(template, open('/diskmnt/Projects/Users/estorrs/wombat/tests/data/cnv/C3L-00677_inputs.yaml', 'w'))"
   ]
  },
  {
   "cell_type": "code",
   "execution_count": null,
   "id": "d5968a59",
   "metadata": {},
   "outputs": [],
   "source": []
  },
  {
   "cell_type": "code",
   "execution_count": null,
   "id": "807aefec",
   "metadata": {},
   "outputs": [],
   "source": []
  },
  {
   "cell_type": "code",
   "execution_count": null,
   "id": "d8634872",
   "metadata": {},
   "outputs": [],
   "source": []
  },
  {
   "cell_type": "code",
   "execution_count": null,
   "id": "046aed9e",
   "metadata": {},
   "outputs": [],
   "source": []
  },
  {
   "cell_type": "code",
   "execution_count": null,
   "id": "8cf332fe",
   "metadata": {},
   "outputs": [],
   "source": []
  },
  {
   "cell_type": "code",
   "execution_count": null,
   "id": "a693b394",
   "metadata": {},
   "outputs": [],
   "source": []
  },
  {
   "cell_type": "code",
   "execution_count": null,
   "id": "5cc32f05",
   "metadata": {},
   "outputs": [],
   "source": []
  },
  {
   "cell_type": "code",
   "execution_count": null,
   "id": "9e919931",
   "metadata": {},
   "outputs": [],
   "source": []
  },
  {
   "cell_type": "code",
   "execution_count": null,
   "id": "7f556e2a",
   "metadata": {},
   "outputs": [],
   "source": []
  },
  {
   "cell_type": "code",
   "execution_count": 9,
   "id": "82d70ce0",
   "metadata": {},
   "outputs": [
    {
     "data": {
      "text/plain": [
       "'docker run -v /data/pecgs/cnv:/cnv_resources -v /data/pecgs/test_sample/C3L-00677:/cnv_data -v /data/pecgs/test_runs/cnv/C3L-00677:/cnv_outputs -it estorrs/pecgs_cnv:0.0.1 /bin/bash'"
      ]
     },
     "execution_count": 9,
     "metadata": {},
     "output_type": "execute_result"
    }
   ],
   "source": [
    "resource_dir = '/data/pecgs/cnv'\n",
    "data_dir = '/data/pecgs/test_sample/C3L-00677'\n",
    "output_dir = '/data/pecgs/test_runs/cnv/' + m['id']\n",
    "Path(output_dir).mkdir(parents=True, exist_ok=True)\n",
    "pieces = [\n",
    "    'docker', 'run',\n",
    "    '-v', f'{resource_dir}:/cnv_resources',\n",
    "    '-v', f'{data_dir}:/cnv_data',\n",
    "    '-v', f'{output_dir}:/cnv_outputs',\n",
    "    '-it', 'estorrs/pecgs_cnv:0.0.2',\n",
    "    '/bin/bash'\n",
    "]\n",
    "cmd = ' '.join(pieces)\n",
    "cmd"
   ]
  },
  {
   "cell_type": "code",
   "execution_count": 14,
   "id": "e650e23a",
   "metadata": {},
   "outputs": [
    {
     "data": {
      "text/plain": [
       "'python /pecgs-cnv/cnv/cnv.py --common-biallelic /cnv_resources/db/snp_database/af-only-gnomad.hg38.common_biallelic.chr1-22XY.vcf --genome /cnv_resources/references/GRCh38.d1.vd1/GRCh38.d1.vd1.fa --genome-dict /cnv_resources/references/GRCh38.d1.vd1/GRCh38.d1.vd1.dict --pool-of-normals /cnv_resources/pon/create_pon/gatk4scnaPON.Normal.hdf5 --protein-coding-gene /cnv_resources/db/remaking_protein-coding/gencode.v34.annotation.gene_filterd.need_gene_symbol.no_sym.filtered_to_hgnc_protein-coding_genes.bed --target-interval-list /cnv_resources/db/IDT_xGen_Exome_Research_Panel_v1.hg38.removed_alt_chr.bed.target.preprocessed.exome.interval_list --gene-level-script /pecgs-cnv/cnv/segment_to_geneLevel.py --merge-gene-script /pecgs-cnv/cnv/mergeMultipleFilesToOne.py --out-dir outputs C3L-00677 /cnv_data/wxs/1d6c4f0f-09c4-4472-a19e-30ee7e0ecf64_gdc_realn.bam /cnv_data/wxs/5cee818c-61e8-4441-bd9a-5c984cde9c6b_gdc_realn.bam'"
      ]
     },
     "execution_count": 14,
     "metadata": {},
     "output_type": "execute_result"
    }
   ],
   "source": [
    "pieces = [f'python /pecgs-cnv/cnv/cnv.py',\n",
    "         '--common-biallelic', '/cnv_resources/db/snp_database/af-only-gnomad.hg38.common_biallelic.chr1-22XY.vcf',\n",
    "          '--genome', '/cnv_resources/references/GRCh38.d1.vd1/GRCh38.d1.vd1.fa',\n",
    "          '--genome-dict', '/cnv_resources/references/GRCh38.d1.vd1/GRCh38.d1.vd1.dict',\n",
    "          '--pool-of-normals', '/cnv_resources/pon/create_pon/gatk4scnaPON.Normal.hdf5',\n",
    "          '--protein-coding-gene', '/cnv_resources/db/remaking_protein-coding/gencode.v34.annotation.gene_filterd.need_gene_symbol.no_sym.filtered_to_hgnc_protein-coding_genes.bed',\n",
    "          '--target-interval-list', '/cnv_resources/db/IDT_xGen_Exome_Research_Panel_v1.hg38.removed_alt_chr.bed.target.preprocessed.exome.interval_list',\n",
    "          '--gene-level-script', '/pecgs-cnv/cnv/segment_to_geneLevel.py',\n",
    "          '--merge-gene-script', '/pecgs-cnv/cnv/mergeMultipleFilesToOne.py',\n",
    "          '--out-dir', 'outputs',\n",
    "          m['id'],\n",
    "          '/cnv_data/wxs/1d6c4f0f-09c4-4472-a19e-30ee7e0ecf64_gdc_realn.bam',\n",
    "          '/cnv_data/wxs/5cee818c-61e8-4441-bd9a-5c984cde9c6b_gdc_realn.bam'\n",
    "         ]\n",
    "cmd = ' '.join(pieces)\n",
    "cmd\n",
    "\n",
    "\n",
    "\n",
    "\n"
   ]
  },
  {
   "cell_type": "code",
   "execution_count": 15,
   "id": "6440172c",
   "metadata": {},
   "outputs": [],
   "source": [
    "# gatk PlotDenoisedCopyRatios --standardized-copy-ratios outputs/C3L-00677.T.standardizedCR.tsv --denoised-copy-ratios outputs/C3L-00677.T.denoisedCR.tsv --sequence-dictionary /cnv_resources/references/GRCh38.d1.vd1/GRCh38.d1.vd1.dict --minimum-contig-length 10000000 --output outputs/plots --output-prefix C3L-00677.T --tmp-dir outputs\n"
   ]
  },
  {
   "cell_type": "code",
   "execution_count": null,
   "id": "7d4f3130",
   "metadata": {},
   "outputs": [],
   "source": [
    "# python /pecgs-cnv/cnv/segment_to_geneLevel.py --prefix C3L-00677.T --name C3L-00677 --seg outputs/C3L-00677.T.called.igv.seg --gene /cnv_resources/db/remaking_protein-coding/gencode.v34.annotation.gene_filterd.need_gene_symbol.no_sym.filtered_to_hgnc_protein-coding_genes.bed -o outputs\n"
   ]
  }
 ],
 "metadata": {
  "kernelspec": {
   "display_name": "Python 3 (ipykernel)",
   "language": "python",
   "name": "python3"
  },
  "language_info": {
   "codemirror_mode": {
    "name": "ipython",
    "version": 3
   },
   "file_extension": ".py",
   "mimetype": "text/x-python",
   "name": "python",
   "nbconvert_exporter": "python",
   "pygments_lexer": "ipython3",
   "version": "3.9.16"
  }
 },
 "nbformat": 4,
 "nbformat_minor": 5
}
